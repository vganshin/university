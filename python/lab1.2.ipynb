{
 "metadata": {
  "name": "",
  "signature": "sha256:5e90e036f2c71cabefa0ec9b8347e493577feccafd5a12c9aa24e4dd705ea6f0"
 },
 "nbformat": 3,
 "nbformat_minor": 0,
 "worksheets": [
  {
   "cells": [
    {
     "cell_type": "code",
     "collapsed": false,
     "input": [
      "import string\n",
      "\n",
      "file = open(\"annagrams.txt\")\n",
      "data = file.read()\n",
      "\n",
      "annagrams = {}\n",
      "words = []\n",
      "word = ''\n",
      "\n",
      "for char in data:\n",
      "    if char in string.ascii_letters:\n",
      "        word = word + char\n",
      "    elif word:\n",
      "        words.append(word)\n",
      "        word = ''\n",
      "\n",
      "for word in words:\n",
      "    annagram = \"\".join(sorted(word))\n",
      "    \n",
      "    if not annagrams.get(annagram):\n",
      "        annagrams[annagram] = set()\n",
      "    \n",
      "    annagrams[annagram].add(word)\n",
      "\n",
      "for annagram in annagrams.keys():\n",
      "    \n",
      "    print(annagrams[annagram])"
     ],
     "language": "python",
     "metadata": {},
     "outputs": [
      {
       "output_type": "stream",
       "stream": "stdout",
       "text": [
        "set(['des'])\n",
        "set(['greatening', 'generating'])\n",
        "set(['staled', 'deltas', 'lasted', 'slated', 'salted'])\n",
        "set(['termless', 'smelters', 'resmelts'])\n",
        "set(['ternaries', 'retainers'])\n",
        "set(['alt'])\n"
       ]
      }
     ],
     "prompt_number": 4
    }
   ],
   "metadata": {}
  }
 ]
}