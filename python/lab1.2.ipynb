{
 "metadata": {
  "name": "",
  "signature": "sha256:90f4a487a01d10d1828caa5e56951d5adf84caba1e1460105553ce8eb42278f5"
 },
 "nbformat": 3,
 "nbformat_minor": 0,
 "worksheets": [
  {
   "cells": [
    {
     "cell_type": "code",
     "collapsed": false,
     "input": [
      "import string\n",
      "\n",
      "file = open(\"annagrams.txt\")\n",
      "data = file.read()\n",
      "\n",
      "annagrams = {}\n",
      "words = []\n",
      "word = ''\n",
      "\n",
      "for char in data:\n",
      "    if char in string.ascii_letters:\n",
      "        word = word + char\n",
      "    elif word:\n",
      "        words.append(word)\n",
      "        word = ''\n",
      "\n",
      "for word in words:\n",
      "    annagram = \"\".join(sorted(word))\n",
      "    \n",
      "    if not annagrams.get(annagram):\n",
      "        annagrams[annagram] = []\n",
      "    \n",
      "    annagrams[annagram].append(word)\n",
      "\n",
      "for annagram in annagrams.keys():\n",
      "    print(annagrams[annagram])"
     ],
     "language": "python",
     "metadata": {},
     "outputs": [
      {
       "output_type": "stream",
       "stream": "stdout",
       "text": [
        "['resmelts', 'smelters', 'termless']\n",
        "['generating', 'greatening']\n",
        "['retainers', 'ternaries']\n",
        "['deltas', 'desalt', 'lasted', 'salted', 'slated', 'staled']\n"
       ]
      }
     ],
     "prompt_number": 5
    }
   ],
   "metadata": {}
  }
 ]
}