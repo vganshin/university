{
 "metadata": {
  "name": "",
  "signature": "sha256:149b9b6a3618e33a8d134c7a3194277789c692da712a0cbd892cf964a6849068"
 },
 "nbformat": 3,
 "nbformat_minor": 0,
 "worksheets": [
  {
   "cells": [
    {
     "cell_type": "code",
     "collapsed": false,
     "input": [
      "import csv\n",
      "\n",
      "raw_data = open(\"marks.csv\")\n",
      "students = csv.reader(raw_data)\n",
      "\n",
      "def average(marks):\n",
      "    return str(float(reduce(lambda a, b: a + b, map(int, marks))) / len(marks))\n",
      "\n",
      "groups = {}\n",
      "\n",
      "for student in students:\n",
      "    group = student[1]\n",
      "    marks = student[2:]\n",
      "    avg = average(marks)\n",
      "    \n",
      "    if not groups.get(group):\n",
      "        groups[group] = []\n",
      "    \n",
      "    student[1] = average(marks)\n",
      "    \n",
      "    record = \" \".join(student)\n",
      "    \n",
      "    groups[group].append(record)\n",
      "    \n",
      "for group, students in groups.items():\n",
      "    print(\"\u0413\u0440\u0443\u043f\u043f\u0430 {group}:\".format(group=group))\n",
      "    for student in students:\n",
      "        print(student)"
     ],
     "language": "python",
     "metadata": {},
     "outputs": [
      {
       "output_type": "stream",
       "stream": "stdout",
       "text": [
        "\u0413\u0440\u0443\u043f\u043f\u0430 M4105:\n",
        "\u0418\u0432\u0430\u043d\u043e\u0432 4.4 5 5 4 4 4\n",
        "\u0413\u0440\u0443\u043f\u043f\u0430 \u041c4106:\n",
        "\u041f\u0435\u0442\u0440\u043e\u0432 3.75 4 4 4 3\n",
        "\u0413\u0440\u0443\u043f\u043f\u0430 \u041c4105:\n",
        "\u0421\u0438\u0434\u043e\u0440\u043e\u0432 3.66666666667 4 4 3\n"
       ]
      }
     ],
     "prompt_number": 32
    }
   ],
   "metadata": {}
  }
 ]
}