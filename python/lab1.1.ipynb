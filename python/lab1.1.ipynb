{
 "metadata": {
  "name": "",
  "signature": "sha256:2a2ff2050369eecb083084c42685c4cf40a6f0024ba094f03b6ef7c6a647ee73"
 },
 "nbformat": 3,
 "nbformat_minor": 0,
 "worksheets": [
  {
   "cells": [
    {
     "cell_type": "code",
     "collapsed": false,
     "input": [
      "import csv\n",
      "\n",
      "raw_data = open(\"marks.csv\")\n",
      "students = csv.reader(raw_data)\n",
      "\n",
      "def average(marks):\n",
      "    return float(reduce(lambda a, b: a + b, map(int, marks))) / len(marks)\n",
      "\n",
      "groups = {}\n",
      "\n",
      "for student in students:\n",
      "    group = student[1]\n",
      "    marks = student[2:]\n",
      "    avg = average(marks)\n",
      "    \n",
      "    if not groups.get(group):\n",
      "        groups[group] = []\n",
      "    \n",
      "    student[1] = average(marks)\n",
      "    \n",
      "    \n",
      "    \n",
      "    groups[group].append(student)\n",
      "    \n",
      "for group, students in groups.items():\n",
      "    print(\"\u0413\u0440\u0443\u043f\u043f\u0430 {group}:\".format(group=group))\n",
      "    \n",
      "    students = sorted(students, key = lambda x: x[1])\n",
      "    students.reverse()\n",
      "    \n",
      "    for student in students:\n",
      "        print(student)\n",
      "#         print(\" \".join(student))"
     ],
     "language": "python",
     "metadata": {},
     "outputs": [
      {
       "output_type": "stream",
       "stream": "stdout",
       "text": [
        "\u0413\u0440\u0443\u043f\u043f\u0430 \u041c4106:\n",
        "['\\xd0\\x9f\\xd0\\xb5\\xd1\\x82\\xd1\\x80\\xd0\\xbe\\xd0\\xb2', 3.75, '4', '4', '4', '3']\n",
        "\u0413\u0440\u0443\u043f\u043f\u0430 \u041c4105:\n",
        "['\\xd0\\x98\\xd0\\xb2\\xd0\\xb0\\xd0\\xbd\\xd0\\xbe\\xd0\\xb2', 4.4, '5', '5', '4', '4', '4']\n",
        "['\\xd0\\xa1\\xd0\\xb8\\xd0\\xb4\\xd0\\xbe\\xd1\\x80\\xd0\\xbe\\xd0\\xb2', 3.6666666666666665, '4', '4', '3']\n"
       ]
      }
     ],
     "prompt_number": 46
    }
   ],
   "metadata": {}
  }
 ]
}